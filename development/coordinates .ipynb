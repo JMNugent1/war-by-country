{
 "cells": [
  {
   "cell_type": "code",
   "execution_count": null,
   "id": "5d43919c",
   "metadata": {},
   "outputs": [],
   "source": [
    "## Imports and cleaning the CSV\n",
    "\n",
    "import pandas as pd \n",
    "import csv\n",
    "import asyncio\n",
    "import aiohttp\n",
    "from geopy.geocoders import Nominatim\n",
    "import time\n",
    "\n",
    "data= pd.read_csv(\"wardata.csv\")\n",
    "data\n",
    "\n",
    "#df.iloc[0:3]\n",
    "player_birth= data['birth_location']"
   ]
  },
  {
   "cell_type": "code",
   "execution_count": null,
   "id": "e3aad59a",
   "metadata": {},
   "outputs": [],
   "source": [
    "player_birth"
   ]
  },
  {
   "cell_type": "code",
   "execution_count": null,
   "id": "3f3c33ab",
   "metadata": {},
   "outputs": [],
   "source": [
    "## test code to make sure imports are working\n",
    "\n",
    "address='Riverside, CA'\n",
    "geolocator = Nominatim(user_agent=\"Your_Name\")\n",
    "location = geolocator.geocode(address)\n",
    "print((location.latitude, location.longitude))"
   ]
  },
  {
   "cell_type": "code",
   "execution_count": null,
   "id": "649b9aaa",
   "metadata": {},
   "outputs": [],
   "source": [
    "latitude = []\n",
    "cache = {}  # create an empty cache dictionary\n",
    "\n",
    "for birth in data['birth_location']:\n",
    "    if birth in cache:  # check if the address is in the cache\n",
    "        location = cache[birth]  # if it is, use the cached location\n",
    "    else:\n",
    "        address = birth\n",
    "        geolocator = Nominatim(user_agent=\"Your_Name\")\n",
    "        location = geolocator.geocode(address)\n",
    "        cache[birth] = location  # add the location to the cache\n",
    "    if location is not None:\n",
    "        latitude.append(location.latitude)\n",
    "    else:\n",
    "        latitude.append(None)\n",
    "    time.sleep(1)  # add a 1-second delay between requests\n",
    "    \n",
    "    try:\n",
    "        print(latitude)\n",
    "    except AttributeError:\n",
    "        print(\"Unable to find location for address:\", address)"
   ]
  },
  {
   "cell_type": "code",
   "execution_count": null,
   "id": "2fb94ce8",
   "metadata": {},
   "outputs": [],
   "source": [
    "#verify that all the data was ran through\n",
    "len(latitude)"
   ]
  },
  {
   "cell_type": "code",
   "execution_count": null,
   "id": "f62df6aa",
   "metadata": {},
   "outputs": [],
   "source": [
    "# Open the CSV file in write mode\n",
    "with open('latitude.csv', 'w', newline='') as csv_file:\n",
    "    # Create a CSV writer object\n",
    "    writer = csv.writer(csv_file)\n",
    "    \n",
    "    # Write the longitude list to the CSV file\n",
    "    writer.writerow(latitude)\n"
   ]
  },
  {
   "cell_type": "code",
   "execution_count": null,
   "id": "9512f744",
   "metadata": {},
   "outputs": [],
   "source": [
    "latitude = pd.DataFrame(latitude)\n",
    "\n",
    "print(latitude)\n",
    "\n",
    "# Merge the data frame and list using pd.concat() and specifying a column label for the list\n",
    "merged_df = pd.concat([data, latitude], axis=1, keys=['data', 'latitude'])\n",
    "\n",
    "print(merged_df)\n"
   ]
  },
  {
   "cell_type": "code",
   "execution_count": null,
   "id": "60c43ff6",
   "metadata": {},
   "outputs": [],
   "source": [
    "longitude = []\n",
    "cache = {}  # create an empty cache dictionary\n",
    "\n",
    "for birth in player_birth:\n",
    "    if birth in cache:  # check if the address is in the cache\n",
    "        location = cache[birth]  # if it is, use the cached location\n",
    "    else:\n",
    "        address = birth\n",
    "        geolocator = Nominatim(user_agent=\"Your_Name\")\n",
    "        location = geolocator.geocode(address)\n",
    "        cache[birth] = location  # add the location to the cache\n",
    "    if location is not None:\n",
    "        longitude.append(location.longitude)\n",
    "    else:\n",
    "        longitude.append(None)\n",
    "    time.sleep(1)  # add a 1-second delay between requests\n",
    "    \n",
    "    try:\n",
    "        print(longitude)\n",
    "    except AttributeError:\n",
    "        print(\"Unable to find location for address:\", address)"
   ]
  },
  {
   "cell_type": "code",
   "execution_count": null,
   "id": "36eebf31",
   "metadata": {},
   "outputs": [],
   "source": [
    "len(longitude)"
   ]
  },
  {
   "cell_type": "code",
   "execution_count": null,
   "id": "167a3cd0",
   "metadata": {},
   "outputs": [],
   "source": [
    "# Open the CSV file in write mode\n",
    "with open('longitude.csv', 'w', newline='') as csv_file:\n",
    "    # Create a CSV writer object\n",
    "    writer = csv.writer(csv_file)\n",
    "    \n",
    "    # Write the longitude list to the CSV file\n",
    "    writer.writerow(longitude)\n"
   ]
  },
  {
   "cell_type": "code",
   "execution_count": null,
   "id": "f74b778d",
   "metadata": {},
   "outputs": [],
   "source": [
    "longitude = pd.DataFrame(longitude)\n",
    "\n",
    "print(longitude)\n",
    "\n",
    "# Merge the data frame and list using pd.concat() and specifying a column label for the list\n",
    "merged_df1 = pd.concat([merged_df, longitude], axis=1, keys=['data', 'longitude'])\n",
    "\n",
    "print(merged_df1)\n"
   ]
  },
  {
   "cell_type": "code",
   "execution_count": null,
   "id": "fb404b36",
   "metadata": {},
   "outputs": [],
   "source": []
  }
 ],
 "metadata": {
  "kernelspec": {
   "display_name": "Python 3 (ipykernel)",
   "language": "python",
   "name": "python3"
  },
  "language_info": {
   "codemirror_mode": {
    "name": "ipython",
    "version": 3
   },
   "file_extension": ".py",
   "mimetype": "text/x-python",
   "name": "python",
   "nbconvert_exporter": "python",
   "pygments_lexer": "ipython3",
   "version": "3.9.12"
  }
 },
 "nbformat": 4,
 "nbformat_minor": 5
}
