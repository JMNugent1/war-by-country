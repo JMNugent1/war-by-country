{
 "cells": [
  {
   "cell_type": "markdown",
   "id": "e8a44ccf-74e9-4e05-8f62-27944800b942",
   "metadata": {},
   "source": [
    "# To create the database run this file!"
   ]
  },
  {
   "cell_type": "code",
   "execution_count": null,
   "id": "4e888029-f351-43b8-9695-e77c3a834357",
   "metadata": {},
   "outputs": [],
   "source": [
    "# Import dependencies\n",
    "import pandas as pd\n",
    "from sqlalchemy import create_engine\n",
    "from sqlalchemy.ext.declarative import declarative_base\n",
    "from sqlalchemy import Column, Integer, String, Float\n",
    "import sqlite3\n",
    "from sqlalchemy.orm import sessionmaker"
   ]
  },
  {
   "cell_type": "code",
   "execution_count": null,
   "id": "f227d975-befb-4ccb-9e98-7fea9847028e",
   "metadata": {},
   "outputs": [],
   "source": [
    "# Read the CSV data in order to load into a SQLite file\n",
    "baseball_df = pd.read_csv(\"data/clean_data.csv\")\n",
    "baseball_df = baseball_df.drop(columns=[\"Unnamed: 0\"])\n",
    "baseball_df.head()"
   ]
  },
  {
   "cell_type": "code",
   "execution_count": null,
   "id": "efd11162-07cb-47d9-bc52-ad53b2750e54",
   "metadata": {},
   "outputs": [],
   "source": [
    "# Creating Engine to write our data to a SQLite file\n",
    "engine = create_engine(\"sqlite:///data/wardata.sqlite\")"
   ]
  },
  {
   "cell_type": "code",
   "execution_count": null,
   "id": "05d7ff18-2423-4dfb-89c3-0acf01825325",
   "metadata": {},
   "outputs": [],
   "source": [
    "Base = declarative_base()\n",
    "class Baseball(Base):\n",
    "    __tablename__ = \"baseball\"\n",
    "    player_id = Column(Integer, primary_key=True)\n",
    "    rank_in_country = Column(Integer)\n",
    "    player_name = Column(String)\n",
    "    war = Column(Float)\n",
    "    year_min = Column(Integer)\n",
    "    year_max = Column(Integer)\n",
    "    age_range = Column(String)\n",
    "    birth_location = Column(String)\n",
    "    country = Column(String)\n",
    "    position = Column(String)\n",
    "\n",
    "Base.metadata.create_all(engine)\n",
    "Base.metadata.bind = engine\n",
    "DBSession = sessionmaker(bind=engine)\n",
    "session = DBSession()\n",
    "session.commit()\n",
    "baseball_df.to_sql('baseball', con=engine, if_exists='replace', index=False)"
   ]
  },
  {
   "cell_type": "code",
   "execution_count": null,
   "id": "b090997f-764d-49e5-85b3-8d297dba44f8",
   "metadata": {},
   "outputs": [],
   "source": [
    "# Create a SQL connection to our SQLite database\n",
    "con = sqlite3.connect(\"data/wardata.sqlite\")\n",
    "cur = con.cursor()\n",
    "\n",
    "# Print rows to ensure that they are in our database successfully\n",
    "for row in cur.execute('SELECT * FROM baseball;'):\n",
    "    print(row)\n",
    "\n",
    "# Closing connection\n",
    "con.close()"
   ]
  }
 ],
 "metadata": {
  "kernelspec": {
   "display_name": "Python 3 (ipykernel)",
   "language": "python",
   "name": "python3"
  },
  "language_info": {
   "codemirror_mode": {
    "name": "ipython",
    "version": 3
   },
   "file_extension": ".py",
   "mimetype": "text/x-python",
   "name": "python",
   "nbconvert_exporter": "python",
   "pygments_lexer": "ipython3",
   "version": "3.9.12"
  }
 },
 "nbformat": 4,
 "nbformat_minor": 5
}
