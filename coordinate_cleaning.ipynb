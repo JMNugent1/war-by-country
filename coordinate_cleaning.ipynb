{
 "cells": [
  {
   "cell_type": "code",
   "execution_count": 13,
   "id": "b1b3935d-13b8-429f-91f4-10e237aaf43b",
   "metadata": {},
   "outputs": [],
   "source": [
    "import pandas as pd"
   ]
  },
  {
   "cell_type": "code",
   "execution_count": 14,
   "id": "b49eb909-ba24-4618-b8c1-1265c781450b",
   "metadata": {},
   "outputs": [],
   "source": [
    "baseball_df = pd.read_csv(\"data/wardata.csv\")\n",
    "lat_df = pd.read_csv(\"data/latitude.csv\")\n",
    "lon_df = pd.read_csv(\"data/longitude.csv\")"
   ]
  },
  {
   "cell_type": "code",
   "execution_count": 15,
   "id": "d0be92b1-0e01-414e-88fa-c465f802b9ce",
   "metadata": {},
   "outputs": [],
   "source": [
    "lat_list = []\n",
    "long_list = []\n",
    "for lat in lat_df:\n",
    "    lat_list.append(lat)\n",
    "for lon in lon_df:\n",
    "    long_list.append(lon)"
   ]
  },
  {
   "cell_type": "code",
   "execution_count": 16,
   "id": "7561e74f-d3f1-4443-9e53-09dd60eda0a9",
   "metadata": {},
   "outputs": [],
   "source": [
    "baseball_df[\"Latitude\"] = lat_list\n",
    "baseball_df[\"Longitude\"] = long_list"
   ]
  },
  {
   "cell_type": "code",
   "execution_count": 17,
   "id": "9f53dea0-35a3-47fc-b0ae-aefbd3517c4c",
   "metadata": {},
   "outputs": [],
   "source": [
    "to_drop = []\n",
    "for index, row in baseball_df.iterrows():\n",
    "    if row[10] == f\"Unnamed: {index}\":\n",
    "        to_drop.append(index)\n",
    "\n",
    "drop_df = baseball_df.drop(to_drop)"
   ]
  },
  {
   "cell_type": "code",
   "execution_count": 18,
   "id": "c1058541-e564-4f9f-b6ff-8df541b28ffc",
   "metadata": {},
   "outputs": [],
   "source": [
    "baseball_df.to_csv(\"data/wardata.csv\")\n",
    "drop_df.to_csv(\"data/clean_data.csv\")"
   ]
  }
 ],
 "metadata": {
  "kernelspec": {
   "display_name": "Python 3 (ipykernel)",
   "language": "python",
   "name": "python3"
  },
  "language_info": {
   "codemirror_mode": {
    "name": "ipython",
    "version": 3
   },
   "file_extension": ".py",
   "mimetype": "text/x-python",
   "name": "python",
   "nbconvert_exporter": "python",
   "pygments_lexer": "ipython3",
   "version": "3.9.12"
  }
 },
 "nbformat": 4,
 "nbformat_minor": 5
}
