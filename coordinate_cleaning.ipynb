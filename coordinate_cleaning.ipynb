{
 "cells": [
  {
   "cell_type": "code",
   "execution_count": 8,
   "id": "b1b3935d-13b8-429f-91f4-10e237aaf43b",
   "metadata": {},
   "outputs": [],
   "source": [
    "import pandas as pd"
   ]
  },
  {
   "cell_type": "code",
   "execution_count": 9,
   "id": "b49eb909-ba24-4618-b8c1-1265c781450b",
   "metadata": {},
   "outputs": [],
   "source": [
    "lat_df = pd.read_csv(\"data/latitude.csv\")\n",
    "lon_df = pd.read_csv(\"data/longitude.csv\")"
   ]
  },
  {
   "cell_type": "code",
   "execution_count": 10,
   "id": "d0be92b1-0e01-414e-88fa-c465f802b9ce",
   "metadata": {},
   "outputs": [],
   "source": [
    "lat_list = []\n",
    "long_list = []\n",
    "for lat in lat_df:\n",
    "    lat_list.append(lat)\n",
    "for lon in lon_df:\n",
    "    long_list.append(lon)"
   ]
  },
  {
   "cell_type": "code",
   "execution_count": 13,
   "id": "3fe4a641-a117-4b38-8f31-d3e264009879",
   "metadata": {},
   "outputs": [
    {
     "name": "stdout",
     "output_type": "stream",
     "text": [
      "2580\n",
      "2580\n"
     ]
    }
   ],
   "source": [
    "print(len(lat_list))\n",
    "print(len(long_list))"
   ]
  },
  {
   "cell_type": "code",
   "execution_count": 16,
   "id": "7561e74f-d3f1-4443-9e53-09dd60eda0a9",
   "metadata": {},
   "outputs": [],
   "source": [
    "df = pd.DataFrame()"
   ]
  },
  {
   "cell_type": "code",
   "execution_count": 17,
   "id": "1e23fe2c-f056-4091-8c19-27772e529dc1",
   "metadata": {},
   "outputs": [],
   "source": [
    "df[\"Latitude\"] = lat_list\n",
    "df[\"Longitude\"] = long_list"
   ]
  },
  {
   "cell_type": "code",
   "execution_count": 18,
   "id": "c210c7c4-a941-4fbf-9bef-09286f115a67",
   "metadata": {},
   "outputs": [
    {
     "data": {
      "text/html": [
       "<div>\n",
       "<style scoped>\n",
       "    .dataframe tbody tr th:only-of-type {\n",
       "        vertical-align: middle;\n",
       "    }\n",
       "\n",
       "    .dataframe tbody tr th {\n",
       "        vertical-align: top;\n",
       "    }\n",
       "\n",
       "    .dataframe thead th {\n",
       "        text-align: right;\n",
       "    }\n",
       "</style>\n",
       "<table border=\"1\" class=\"dataframe\">\n",
       "  <thead>\n",
       "    <tr style=\"text-align: right;\">\n",
       "      <th></th>\n",
       "      <th>Latitude</th>\n",
       "      <th>Longitude</th>\n",
       "    </tr>\n",
       "  </thead>\n",
       "  <tbody>\n",
       "    <tr>\n",
       "      <th>0</th>\n",
       "      <td>33.9533546</td>\n",
       "      <td>-117.3961623</td>\n",
       "    </tr>\n",
       "    <tr>\n",
       "      <th>1</th>\n",
       "      <td>39.2908816</td>\n",
       "      <td>-76.610759</td>\n",
       "    </tr>\n",
       "    <tr>\n",
       "      <th>2</th>\n",
       "      <td>48.86187795</td>\n",
       "      <td>2.3471384386899565</td>\n",
       "    </tr>\n",
       "    <tr>\n",
       "      <th>3</th>\n",
       "      <td>34.5591978</td>\n",
       "      <td>-85.2492702</td>\n",
       "    </tr>\n",
       "    <tr>\n",
       "      <th>4</th>\n",
       "      <td>30.6867339</td>\n",
       "      <td>-88.0848929</td>\n",
       "    </tr>\n",
       "    <tr>\n",
       "      <th>...</th>\n",
       "      <td>...</td>\n",
       "      <td>...</td>\n",
       "    </tr>\n",
       "    <tr>\n",
       "      <th>2575</th>\n",
       "      <td>20.07997805.1</td>\n",
       "      <td>-102.71597204457831.1</td>\n",
       "    </tr>\n",
       "    <tr>\n",
       "      <th>2576</th>\n",
       "      <td>19.434325299999998.3</td>\n",
       "      <td>-99.07325169426676.3</td>\n",
       "    </tr>\n",
       "    <tr>\n",
       "      <th>2577</th>\n",
       "      <td>19.5685916.3</td>\n",
       "      <td>-99.0659791.3</td>\n",
       "    </tr>\n",
       "    <tr>\n",
       "      <th>2578</th>\n",
       "      <td>25.7645823.3</td>\n",
       "      <td>-100.2938039.3</td>\n",
       "    </tr>\n",
       "    <tr>\n",
       "      <th>2579</th>\n",
       "      <td>22.3125986.1</td>\n",
       "      <td>113.91732378641939.1</td>\n",
       "    </tr>\n",
       "  </tbody>\n",
       "</table>\n",
       "<p>2580 rows × 2 columns</p>\n",
       "</div>"
      ],
      "text/plain": [
       "                  Latitude              Longitude\n",
       "0               33.9533546           -117.3961623\n",
       "1               39.2908816             -76.610759\n",
       "2              48.86187795     2.3471384386899565\n",
       "3               34.5591978            -85.2492702\n",
       "4               30.6867339            -88.0848929\n",
       "...                    ...                    ...\n",
       "2575         20.07997805.1  -102.71597204457831.1\n",
       "2576  19.434325299999998.3   -99.07325169426676.3\n",
       "2577          19.5685916.3          -99.0659791.3\n",
       "2578          25.7645823.3         -100.2938039.3\n",
       "2579          22.3125986.1   113.91732378641939.1\n",
       "\n",
       "[2580 rows x 2 columns]"
      ]
     },
     "execution_count": 18,
     "metadata": {},
     "output_type": "execute_result"
    }
   ],
   "source": [
    "df"
   ]
  },
  {
   "cell_type": "code",
   "execution_count": null,
   "id": "1d45717a-c5a2-4c28-af50-d946b21ba4f9",
   "metadata": {},
   "outputs": [],
   "source": []
  }
 ],
 "metadata": {
  "kernelspec": {
   "display_name": "Python 3 (ipykernel)",
   "language": "python",
   "name": "python3"
  },
  "language_info": {
   "codemirror_mode": {
    "name": "ipython",
    "version": 3
   },
   "file_extension": ".py",
   "mimetype": "text/x-python",
   "name": "python",
   "nbconvert_exporter": "python",
   "pygments_lexer": "ipython3",
   "version": "3.8.13"
  }
 },
 "nbformat": 4,
 "nbformat_minor": 5
}
