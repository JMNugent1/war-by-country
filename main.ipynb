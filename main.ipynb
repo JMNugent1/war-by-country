{
 "cells": [
  {
   "cell_type": "markdown",
   "id": "489eaf97-41c7-4ecc-aec8-d4032d179d0e",
   "metadata": {},
   "source": [
    "# Extraction and Transformation"
   ]
  },
  {
   "cell_type": "markdown",
   "id": "981ebc47-97ca-43bd-8605-a1da09dee4a5",
   "metadata": {},
   "source": [
    "### This file contains data obtained from Stathead Baseball obtained via webscraping. The main metric that we are interested in is the Wins Above Replacement (WAR) metric for each player, as well as other identifiers such as birth location, years active, and position."
   ]
  },
  {
   "cell_type": "code",
   "execution_count": null,
   "id": "4bb5b569-1c58-4d8b-8c74-91b1b87b221b",
   "metadata": {},
   "outputs": [],
   "source": [
    "#import dependencies\n",
    "import pandas as pd\n",
    "import matplotlib.pyplot as plt\n",
    "from splinter import Browser\n",
    "from bs4 import BeautifulSoup\n",
    "from webdriver_manager.chrome import ChromeDriverManager\n",
    "from pprint import pprint"
   ]
  },
  {
   "cell_type": "code",
   "execution_count": null,
   "id": "ea213692-46a1-450f-91a2-0398321f2b10",
   "metadata": {},
   "outputs": [],
   "source": [
    "#web scraping with splinter\n",
    "executable_path = {'executable_path': ChromeDriverManager().install()}\n",
    "browser = Browser('chrome', **executable_path, headless=False)\n",
    "url = \"\"\"\n",
    "    https://stathead.com/baseball/player-batting-season-finder.cgi?request=1&match=player_season_combined&order_by_asc=0\n",
    "    &order_by=b_war&year_min=1900&comp_type=reg&exactness=anymarked&games_min_max=min&minpasVal=502&mingamesVal=100\n",
    "    &season_start=1&season_end=-1&weight_min=0&weight_max=500&location=pob&locationMatch=is&date_type=dob&date_comp=%3D&month_val=0&day_val=0&year_val=0&num_franchises_comp=gt&all_stars_comp=gt\"\n",
    "    \"\"\"\n",
    "browser.visit(url)"
   ]
  },
  {
   "cell_type": "code",
   "execution_count": null,
   "id": "9f3f0f62-e166-4ff4-99ea-3369104aeb59",
   "metadata": {},
   "outputs": [],
   "source": [
    "#web scrape #1: get three letter country codes and store them into an array which we will use as a parameter for another web scrape\n",
    "country_codes = []\n",
    "html = browser.html\n",
    "soup = BeautifulSoup(html, 'html.parser')\n",
    "presets = soup.find('select', class_='sr_preset pob')\n",
    "options = presets.find('option')\n",
    "options2 = options.find_next_sibling(\"option\")\n",
    "\n",
    "#add each unique country code to an array\n",
    "for i in range(56):\n",
    "    if options2[\"value\"] not in country_codes:\n",
    "        country_codes.append(options2[\"value\"])\n",
    "        options2 = options2.find_next_sibling(\"option\")\n",
    "        \n",
    "#list of country codes    \n",
    "print(country_codes)"
   ]
  },
  {
   "cell_type": "code",
   "execution_count": null,
   "id": "60177fb6-dcd2-40e5-8291-e3e52c7a7bf1",
   "metadata": {},
   "outputs": [],
   "source": [
    "#dictionary to hold player information as keys\n",
    "main_dict = {}\n",
    "\n",
    "#columns we are interested in\n",
    "columns_we_want = ['ranker', 'name_display', 'b_war', 'year_min', 'year_max', 'age_range', 'birth_location']\n",
    "count = -1\n",
    "\n",
    "#for loop that web scrapes information based on country code\n",
    "#when web scraping for player data, make sure to log in with your subscribed account on the browser window opened with splinter\n",
    "#or else you are limited to 20 entries for each country code and the first 10 won't have any data\n",
    "for country in country_codes:\n",
    "    country_code = country\n",
    "    unique_url = f\"https://stathead.com/baseball/player-batting-season-finder.cgi?request=1&match=player_season_combined&order_by_asc=0&order_by=b_war&comp_type=reg&exactness=anymarked&games_min_max=min&minpasVal=502&mingamesVal=100&season_start=1&season_end=-1&weight_min=0&weight_max=500&location=pob&locationMatch=is&pob={country_code}&date_type=dob&date_comp=%3D&month_val=0&day_val=0&year_val=0&num_franchises_comp=gt&all_stars_comp=gt\"\n",
    "    browser.visit(unique_url)\n",
    "    html = browser.html\n",
    "    soup = BeautifulSoup(html, 'html.parser')\n",
    "    tbody = soup.find('tbody')\n",
    "    trs = tbody.find('tr')\n",
    "    #for loop that returns the information we want and stores it into an array called \"player_list\" for each player\n",
    "    for a in tbody:\n",
    "        count += 1\n",
    "        player_list = [] #creates empty array to hold player information for each iteration\n",
    "        player_list.append(count) #Assigns a player_id\n",
    "        for row in trs:\n",
    "            if row[\"data-stat\"] in columns_we_want:\n",
    "                for i in row:\n",
    "                    entry = i.text\n",
    "                    if entry not in player_list:\n",
    "                        player_list.append(entry)\n",
    "        player_list.append(country_code) #adds country to end of player_list array\n",
    "        player_list.append(\"Hitter\") #Position\n",
    "        main_dict[player_list[0]] = player_list #adds that array to main_dict with player name as a key\n",
    "        trs = trs.find_next_sibling('tr') #sets trs to the next data row for web scraping\n",
    "        if trs == None:\n",
    "            break;\n",
    "        \n",
    "        #skips rows that aren't data rows (such as header rows)\n",
    "        if trs.find('th')[\"class\"] not in [[\"left\"],[\"right\"],[\"center\"]]:\n",
    "            trs = trs.find_next_sibling('tr')"
   ]
  },
  {
   "cell_type": "code",
   "execution_count": null,
   "id": "4f5e63c0-ea0f-42d9-a105-1569c44f94fc",
   "metadata": {},
   "outputs": [],
   "source": [
    "#dictionary to hold player information as keys\n",
    "pitcher_dict = {}\n",
    "columns_we_want = ['ranker', 'name_display', 'p_war', 'year_min', 'year_max', 'age_range', 'birth_location'] #Pitchers use p_war instead of b_war\n",
    "\n",
    "#for loop that web scrapes information based on country code\n",
    "#when web scraping for player data, make sure to log in with your subscribed account on the browser window opened with splinter\n",
    "#or else you are limited to 20 entries for each country code and the first 10 won't have any data\n",
    "for country in country_codes:\n",
    "    country_code = country\n",
    "    pitcher_url = f\"https://stathead.com/baseball/player-pitching-season-finder.cgi?request=1&match=player_season_combined&order_by_asc=0&order_by=p_war&comp_type=reg&games_started=60&games_relieved=80&qualifiers=nomin&minIpVal=162&minDecVal=14&mingamesVal=40&p_g=x&season_start=1&season_end=-1&weight_min=0&weight_max=500&location=pob&locationMatch=is&pob={country_code}&date_type=dob&date_comp=%3D&month_val=0&day_val=0&year_val=0&num_franchises_comp=gt&all_stars_comp=gt\"\n",
    "    browser.visit(pitcher_url)\n",
    "    html = browser.html\n",
    "    soup = BeautifulSoup(html, 'html.parser')\n",
    "    if soup.find('tbody') == None: #Some countries contain zero records\n",
    "        continue;\n",
    "    tbody = soup.find('tbody')\n",
    "    trs = tbody.find('tr')\n",
    "    #for loop that returns the information we want and stores it into an array called \"player_list\" for each player\n",
    "    for a in tbody:\n",
    "        count += 1\n",
    "        player_list = [] #creates empty array to hold player information for each iteration\n",
    "        player_list.append(count) #Assigns a player_id\n",
    "        for row in trs:\n",
    "            if row[\"data-stat\"] in columns_we_want:\n",
    "                for i in row:\n",
    "                    entry = i.text\n",
    "                    if entry not in player_list:\n",
    "                        player_list.append(entry)\n",
    "        player_list.append(country_code) #adds country to end of player_list array\n",
    "        player_list.append(\"Pitcher\") #Position\n",
    "        pitcher_dict[player_list[0]] = player_list #adds that array to main_dict with player name as a key\n",
    "        trs = trs.find_next_sibling('tr') #sets trs to the next data row for web scraping\n",
    "        if trs == None:\n",
    "            break;\n",
    "        \n",
    "        #skips rows that aren't data rows (such as header rows)\n",
    "        if trs.find('th')[\"class\"] not in [[\"left\"],[\"right\"],[\"center\"]]:\n",
    "            trs = trs.find_next_sibling('tr')"
   ]
  },
  {
   "cell_type": "code",
   "execution_count": null,
   "id": "7492d653-5a77-44b2-8eb2-f03d7e11708b",
   "metadata": {},
   "outputs": [],
   "source": [
    "#create a dataframe to store our collected information in\n",
    "baseball_df = pd.DataFrame(columns=[\"player_id\", \"rank_in_country\", \"player_name\", \"war\", \"year_min\", \"year_max\", \"age_range\", \"birth_location\", \"country\", \"position\"])\n",
    "#add hitter information to dataframe\n",
    "for player in main_dict:\n",
    "    #some players don't have a birth location recorded, so this checks for invalid entries\n",
    "    if len(main_dict[player]) == 10:\n",
    "        baseball_df.loc[len(baseball_df.index)] = main_dict[player]\n",
    "\n",
    "#add pitcher information to our main dataframe\n",
    "for player in pitcher_dict:\n",
    "    #some players don't have a birth location recorded, so this checks for invalid entries\n",
    "    if len(pitcher_dict[player]) == 10:\n",
    "        baseball_df.loc[len(baseball_df.index)] = pitcher_dict[player]"
   ]
  },
  {
   "cell_type": "code",
   "execution_count": null,
   "id": "d3c642f7-6ae3-4cad-ba4e-67c88c2c8875",
   "metadata": {},
   "outputs": [],
   "source": [
    "#Set player_id as index\n",
    "baseball_df = baseball_df.set_index(\"player_id\")\n",
    "baseball_df"
   ]
  },
  {
   "cell_type": "code",
   "execution_count": null,
   "id": "1eee12da-8c71-44df-9c77-d561fd2f6f6e",
   "metadata": {},
   "outputs": [],
   "source": [
    "baseball_df.to_csv(\"wardata.csv\")"
   ]
  }
 ],
 "metadata": {
  "kernelspec": {
   "display_name": "Python 3 (ipykernel)",
   "language": "python",
   "name": "python3"
  },
  "language_info": {
   "codemirror_mode": {
    "name": "ipython",
    "version": 3
   },
   "file_extension": ".py",
   "mimetype": "text/x-python",
   "name": "python",
   "nbconvert_exporter": "python",
   "pygments_lexer": "ipython3",
   "version": "3.8.13"
  }
 },
 "nbformat": 4,
 "nbformat_minor": 5
}
