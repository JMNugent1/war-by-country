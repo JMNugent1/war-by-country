{
 "cells": [
  {
   "cell_type": "code",
   "execution_count": null,
   "id": "62b81e83-abcf-45cb-9e65-e6ea741df6ac",
   "metadata": {},
   "outputs": [],
   "source": [
    "# Import dependencies\n",
    "import pandas as pd\n",
    "import sqlalchemy\n",
    "from pprint import pprint\n",
    "from flask import Flask, jsonify\n",
    "from sqlalchemy.ext.declarative import declarative_base\n",
    "from sqlalchemy import Column, Integer, String, Float\n",
    "from sqlalchemy.orm import Session, sessionmaker\n",
    "from sqlalchemy import create_engine, func"
   ]
  },
  {
   "cell_type": "code",
   "execution_count": null,
   "id": "d7f59746-b7dd-4ba5-8fe6-6d2282f4a6fc",
   "metadata": {},
   "outputs": [],
   "source": [
    "# Create engine to wardata.sqlite\n",
    "engine = create_engine(\"sqlite:///data/wardata.sqlite\")\n",
    "DBSession = sessionmaker(bind=engine)\n",
    "session = DBSession()"
   ]
  },
  {
   "cell_type": "code",
   "execution_count": null,
   "id": "6f46363a-67a7-45fa-9076-ced777aabda3",
   "metadata": {},
   "outputs": [],
   "source": [
    "Base = declarative_base()\n",
    "class Baseball(Base):\n",
    "    __tablename__ = \"baseball\"\n",
    "    player_id = Column(Integer, primary_key=True)\n",
    "    rank_in_country = Column(Integer)\n",
    "    player_name = Column(String)\n",
    "    war = Column(Float)\n",
    "    year_min = Column(Integer)\n",
    "    year_max = Column(Integer)\n",
    "    age_range = Column(String)\n",
    "    birth_location = Column(String)\n",
    "    country = Column(String)\n",
    "    position = Column(String)"
   ]
  },
  {
   "cell_type": "code",
   "execution_count": null,
   "id": "3d7af8c8-58ee-4cda-bc18-78a4fbf69516",
   "metadata": {},
   "outputs": [],
   "source": [
    "variable = session.query(Baseball)\n",
    "\n",
    "#Sample Query\n",
    "new_df = pd.read_sql(\"SELECT * FROM baseball WHERE player_name LIKE 'Babe Ruth'\", engine)\n",
    "new_df"
   ]
  },
  {
   "cell_type": "code",
   "execution_count": null,
   "id": "65471bec-30e9-4642-a866-4292ce5f0a62",
   "metadata": {},
   "outputs": [],
   "source": []
  }
 ],
 "metadata": {
  "kernelspec": {
   "display_name": "Python 3 (ipykernel)",
   "language": "python",
   "name": "python3"
  },
  "language_info": {
   "codemirror_mode": {
    "name": "ipython",
    "version": 3
   },
   "file_extension": ".py",
   "mimetype": "text/x-python",
   "name": "python",
   "nbconvert_exporter": "python",
   "pygments_lexer": "ipython3",
   "version": "3.9.12"
  }
 },
 "nbformat": 4,
 "nbformat_minor": 5
}
